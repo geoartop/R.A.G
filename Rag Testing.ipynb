{
 "cells": [
  {
   "cell_type": "code",
   "execution_count": 1,
   "id": "initial_id",
   "metadata": {
    "collapsed": true,
    "ExecuteTime": {
     "end_time": "2024-03-07T15:45:55.477186Z",
     "start_time": "2024-03-07T15:45:38.920683700Z"
    }
   },
   "outputs": [
    {
     "name": "stdout",
     "output_type": "stream",
     "text": [
      "WARNING:tensorflow:From C:\\Users\\Pumukl\\AppData\\Local\\Programs\\Python\\Python311\\Lib\\site-packages\\keras\\src\\losses.py:2976: The name tf.losses.sparse_softmax_cross_entropy is deprecated. Please use tf.compat.v1.losses.sparse_softmax_cross_entropy instead.\n"
     ]
    }
   ],
   "source": [
    "\n",
    "from langchain.document_loaders import HuggingFaceDatasetLoader\n",
    "from langchain.text_splitter import RecursiveCharacterTextSplitter\n",
    "from langchain.embeddings import HuggingFaceEmbeddings\n",
    "from langchain.vectorstores import FAISS\n",
    "from transformers import AutoTokenizer, TFAutoModelForQuestionAnswering\n",
    "from transformers import AutoTokenizer, pipeline\n",
    "from langchain import HuggingFacePipeline\n",
    "from langchain.chains import RetrievalQA\n",
    "from langchain.document_loaders import DirectoryLoader\n",
    "import torch\n",
    "from langchain.document_loaders import DirectoryLoader\n"
   ]
  },
  {
   "cell_type": "code",
   "outputs": [],
   "source": [
    "import fitz  # PyMuPDF\n",
    "\n",
    "# Open the PDF file\n",
    "with fitz.open('cheeeseeeeeeeeeee.pdf') as doc:\n",
    "    text = \"\"\n",
    "    # Iterate over each page in the PDF\n",
    "    for page in doc:\n",
    "        # Extract text from the page\n",
    "        text += page.get_text()\n",
    "\n",
    "# Write the extracted text to a text file\n",
    "with open('data/cheeeseeeeeeeeeee.txt', 'w', encoding='utf-8') as f:\n",
    "    f.write(text)"
   ],
   "metadata": {
    "collapsed": false,
    "ExecuteTime": {
     "end_time": "2024-03-07T15:45:58.566073400Z",
     "start_time": "2024-03-07T15:45:58.362411900Z"
    }
   },
   "id": "a1e2b4323d93f011",
   "execution_count": 2
  },
  {
   "cell_type": "code",
   "outputs": [],
   "source": [
    "# Load the dataset\n",
    "Data_path = \"data\"\n",
    "loader = DirectoryLoader(Data_path)\n",
    "documents = loader.load()"
   ],
   "metadata": {
    "collapsed": false,
    "ExecuteTime": {
     "end_time": "2024-03-07T15:46:04.789594600Z",
     "start_time": "2024-03-07T15:45:59.247935800Z"
    }
   },
   "id": "df93897038573273",
   "execution_count": 3
  },
  {
   "cell_type": "code",
   "outputs": [],
   "source": [
    "text_splitter = RecursiveCharacterTextSplitter(chunk_size=750, chunk_overlap=150)\n",
    "chunks = text_splitter.split_documents(documents)"
   ],
   "metadata": {
    "collapsed": false,
    "ExecuteTime": {
     "end_time": "2024-03-07T15:46:06.704685300Z",
     "start_time": "2024-03-07T15:46:06.698682800Z"
    }
   },
   "id": "252d7f4a746afcf6",
   "execution_count": 4
  },
  {
   "cell_type": "code",
   "outputs": [],
   "source": [
    "text_contents = [chunk.page_content for chunk in chunks] "
   ],
   "metadata": {
    "collapsed": false,
    "ExecuteTime": {
     "end_time": "2024-03-07T15:46:07.572927Z",
     "start_time": "2024-03-07T15:46:07.566928500Z"
    }
   },
   "id": "9b2e3252dc037be3",
   "execution_count": 5
  },
  {
   "cell_type": "code",
   "outputs": [
    {
     "data": {
      "text/plain": "['Fermentology • Book  A Brief History of Cheese  [Essay]  Charles Ludington  Published on: Oct 25, 2021  License: Creative Commons Attribution 4.0 International License (CC-BY 4.0)  Fermentology • Book  A Brief History of Cheese [Essay]  2  Let’s begin with a little bit of history. Cheese is one of the oldest foods we humans have  produced, possibly dating from the beginning of sheep and cattle herding êé,ééé years  ago. That said, the discovery of cheese making was probably accidental. It’s likely that  the curdling action of rennet was discovered when a herdsman poured milk into a sack or  pouch made of an animal’s stomach, and this may have happened independently in',\n 'pouch made of an animal’s stomach, and this may have happened independently in  Europe, the Middle East, or Central Asia. The Ancient Sumerians and Egyptians certainly  made cheese, and Homer speaks of cheese in both the Illiad and the Odyssey. The oldest  archaelogical example of solid cheese was found in an Ancient Egyptian tomb dating to  around ì,ëéé years ago. However, the earliest archaeological evidence of cheese making  dates back to ð,ðéé-ò,ééé years ago in Mongolia where residues of cheese making  products were found in ceramics pots1.  Cheese was a staple food in both Classical Greece and Rome, although it is not clear  that the either civilization was responsible for expanding awareness of cheese, as most',\n 'that the either civilization was responsible for expanding awareness of cheese, as most  places they traded or conquered were already making cheese in some manner or another.  Nevertheless, it was in Europe, more than elsewhere, that cheese became so wildly  diverse both in production methods and the final product. Cheese was a staple product  throughout the Middle Ages, and such were the differences in European cheeses that in  êíðð a Savoyard polymath named Pantaleone da Cofienza published a book, Summa  Lacticiniorum (“A Compendium of Milk Products”), that was devoted almost entirely to  a discussion of European cheeses [1].  As Cofienza was aware, cheese is most commonly made from cow, sheep, goat, and',\n \"a discussion of European cheeses [1].  As Cofienza was aware, cheese is most commonly made from cow, sheep, goat, and  water buffalo milk, although other types of milk, such as mare’s milk, reindeer milk,  and camel milk, are also used. Cheese styles, textures, and flavors depend on the origin  of the milk (including the animal's diet), whether the milk has been pasteurized, the  amount of milkfat, bacteria and mold, processing, and aging. Sometimes herbs, spices, or  wood smoke are used for flavoring, and other cheeses are internally or externally flavored  with chives, garlic, or fruit. Cheese ranges in color from off-white and pale yellow (most  common), to light-brown or dark-brown, to full of blue or green veins, to orange. Orange\",\n 'common), to light-brown or dark-brown, to full of blue or green veins, to orange. Orange  color does not occur naturally in cheese, but is generally created by adding annatto, an  orange-red dye made from the nuts of the achiote tree. This was originally done to make  winter milk or industrially produced cheese look richer in flavor, but it soon became  standard practice for some types of cheese such as Red Leicester, a mild and crumbly  English cheese, and Mimolette, a hard and slightly nutty cheese from the north of France.  In the United States, orange colored cheese, whatever the name, is especially popular.  Fermentology • Book  A Brief History of Cheese [Essay]  3',\n 'In the United States, orange colored cheese, whatever the name, is especially popular.  Fermentology • Book  A Brief History of Cheese [Essay]  3  What da Cofienza did not say but seems to have intuited, is that cheese is a nutritional  super food because it concentrates most of the nourishment of the milk, and makes the  milk last much longer. The solids extracted from the milk in order to make cheese contain  almost all of the milk fat (assuming the milk has not been skimmed) and fat-soluble  vitamins, most of the proteins, and some of the minerals. What’s left behind, the whey,  is also nutritious, as it contains sugar, small amounts of protein, and the water-soluble',\n 'is also nutritious, as it contains sugar, small amounts of protein, and the water-soluble  vitamins and minerals. Whey can be drunk as a beverage, dried to make protein powder,  or cooked and concentrated to make whey cheeses, such as Ricotta, which is light  textured, creamy, and slightly sweet. Most whey, however, is simply discarded.  Historically, soft cheeses were made for relatively quick consumption and thus eaten in or  near the area where they were made, whereas harder cheeses were aged for many  months, and could be exported great distances. Since the mid-nineteenth century and the  invention of refrigerated transport, soft and semi-soft-cheeses can be exported to all parts',\n 'invention of refrigerated transport, soft and semi-soft-cheeses can be exported to all parts  of the globe, although they should still be eaten sooner than hard cheeses, as they are  likely to be invaded by other bacteria (i.e. to rot) long before hard cheeses are. Put  another way, your cheese is always alive, but you don’t necessarily want it be alive in  all ways.  ~~~  In order to learn more about specific cheeses that you might find in the store, it’s  helpful to understand how cheese is made. All cheese making begins by “ripening” the  milk, that is, by causing lactobacillales (lactic acid bacteria) to sour the milk. This is why  cheese is a fermented food, and it is these bacteria that begin to give cheese its particular',\n 'cheese is a fermented food, and it is these bacteria that begin to give cheese its particular  flavors. In early cheese making, the bacteria were probably left to chance. For most  modern cheese, however, bacterial cultures are added by the cheese-maker. These  bacterial cultures produce not only lactic acid, which gives cheese its sharp taste, but also  diacetyl, which has a buttery taste. Some cheeses such as Emmentaler (a.k.a. “Swiss  Cheese”) also use propionic bacteria, which consume lactic acid and produce a round,  almost hazel-nut taste, as well as carbon dioxide bubbles. It is these bubbles that give  Emmental its characteristic holes.  During cheese making, the milk is always kept warm or even slightly heated in order to',\n 'Emmental its characteristic holes.  During cheese making, the milk is always kept warm or even slightly heated in order to  encourage bacterial growth. This can be done by adding hot water to the curd, or by  heating the walls or “jacket” of the cheese vat with hot water. Once the milk has soured,  the next step is to separate the curd (milk solids) from the whey (mostly water).  “Curdling” is usually done by adding rennet to the soured milk. Rennet is loaded with  enzymes and is traditionally extracted from the fourth stomach of an unweaned calf.  Fermentology • Book  A Brief History of Cheese [Essay]  4  However, vegetable-based rennets have long existed, and some dairies rely on them',\n 'Fermentology • Book  A Brief History of Cheese [Essay]  4  However, vegetable-based rennets have long existed, and some dairies rely on them  uniquely, although most cheese is made with and most rennet is now made  recombinantly and comes in liquid or powder form. Some cheeses such as Pecorino  Romano, a hard, salty, tangy, ewe’s milk cheese are always curdled with lamb’s  rennet, others are curdled with vinegar or even lemon juice. But whatever is used to  curdle the milk, the proteins in the milk coagulate and shrink, trapping the fat globules  and forcing out more of the watery whey. Once the rennet has been carefully stirred into  the milk, the curd is allowed to set, that is, to form a moist gel.',\n 'the milk, the curd is allowed to set, that is, to form a moist gel.  It’s at this point that the difference between hard and soft cheeses begins to occur. For  most soft cheeses, the set curd is simply scooped out with a perforated ladle, and placed  into a perforated mold or form (which gives us the Italian word formaggio and the French  words fromage). This allows the curd to continue to drain off whey by gravity alone. For  fresh goat’s milk cheeses that’s pretty much the entire process, but for two of my  favorite soft cheeses, Camembert and Brie de Meaux, the curd is poured into shallow,  round molds and then sprayed with the other kind of mold (i.e. a fungus), in this case',\n 'round molds and then sprayed with the other kind of mold (i.e. a fungus), in this case  Penicillium candidum, which promotes the growth of an edible, off-white rind. Thus,  Camembert and Brie begin as insipid, semi-soft cheeses, but as they age the proteolytic  enzymes released by the mold break down the protein chains in the cheese, producing an  ever-creamier, and ultimately almost liquid cheese, with a strong odor but mild taste.  However, to make a harder cheeses the set curd is cut with a multiple-bladed “breaker”  to promote more whey extraction. Once the curd has been cut it is allowed to set a second  time, but this time it is firmer, almost rubbery. Having reset, the cut curd is often',\n 'time, but this time it is firmer, almost rubbery. Having reset, the cut curd is often  “cooked” (i.e. heated to a higher temperature, usually around íé c. or êéî f., and never  hotter than ïé c. or êíé f.), which promotes greater whey expulsion and creates a  smoother and more even-textured end product. Some of the bacteria are killed in the  cooking process, but hardly all, so that even a “cooked” cheese remains very much alive  with micro-organisms.  Cutting and then cooking the curd helps to create protein and fat globules, now curds  (plural), anywhere from pea to walnut size, from which still more whey is drained off.  Cottage cheese, perhaps the mildest of all cheeses, is simply sliced and rinsed curd that',\n 'Cottage cheese, perhaps the mildest of all cheeses, is simply sliced and rinsed curd that  is never pressed. But for hard cheeses, the curds are salted and put into a mold, or else  they are formed into loaves and allowed to reset. These curd loaves are then sliced or run  through a mill to produce even smaller, almost rubbery “grains.” The more the curd is  cut, the more whey it drains, and depending on the kind or quality of cheese being made,  the cheese-maker carefully monitors both water content and pH level throughout the  Fermentology • Book  A Brief History of Cheese [Essay]  5  cheese-making process. If a low acidity (i.e. not sharp) hard cheese such as Colby,',\n 'Fermentology • Book  A Brief History of Cheese [Essay]  5  cheese-making process. If a low acidity (i.e. not sharp) hard cheese such as Colby,  Monterey Jack, or Gouda, is desired, the curds are rinsed in pure water before being  drained and pressed.  In the case of Cheddar, the world’s most popular cheese—although it varies greatly in  quality, texture and taste—the loaves of curd are sliced into ì cm. (ê.î-ë inch) thick slabs  the size of notebook paper, which are then stacked four to eight high, and turned over  ever ten minutes or so for roughly an hour. This stacking and turning encourages yet more  whey-extraction, the formation of more protein chains, and greater acidity, and it is',\n 'whey-extraction, the formation of more protein chains, and greater acidity, and it is  known as “cheddaring.” While some other hard cheeses use the cheddaring technique,  traditionally this is what made cheddar cheese unique. After an hour or so, the stacked  slabs of curd are then sliced and run through a mill, which further reduces the size of the  curd. As with other hard cheeses, these “grains” are salted, stirred, and then put into a  mold and compressed. Of course many readers will note that much American cheddar is  actually a fairly mild, moist cheese, and this is because the curd is rinsed and not cut so  fine, thus reducing acidity and allowing for greater moisture retention. It has nothing like',\n 'fine, thus reducing acidity and allowing for greater moisture retention. It has nothing like  the sharpness or earthy flavor and slightly crumbly texture of high-quality cheddar.  For most cheeses, salt is added to the cut curd both for reasons of taste and preservation.  Of course too much salt would kill all the bacteria in a cheese, but a judicious amount  slows down bacterial growth and allows the cheese to age without rotting. And whether  salted or not, the cut curds are now put into the molds that determine their final shape.  Since there is still some whey in the curd, most molds allow for drainage while the curds  are being pressed. For example, Manchego, a slightly tangy, hard sheep’s milk cheese',\n 'are being pressed. For example, Manchego, a slightly tangy, hard sheep’s milk cheese  from Spain, was traditionally pressed in molds made of plaited straw, which left a  distinctive pattern on the outside of the cheese. Today, that same pattern is created by  metal molds.  Once a cheese is hard enough to be removed from its form, it is salted if it has not already  been so. In fact, a “pickled” cheese like Feta, made from sheep’s milk, is removed  from its mold and aged in a brine made of salt water and whey up to the point of  consumption, while mozzarella curd is stretched by hand or machine during the cooking  process, formed into balls, and then placed in a very mild brine. The best, and fattiest',\n 'process, formed into balls, and then placed in a very mild brine. The best, and fattiest  mozzarellas are made from Italian water buffalo milk. Hard cheeses such as Gouda,  Gruyère and Comté, all buttery-nutty in flavor, are soaked in brine for a few days or  weeks to allow the salt to penetrate into the cheese and to help form a bacteria resistant  rind. Beaufort cheese from the French Alps, quite similar to Gruyère in flavor, is both  brined and externally salted with a daily salt rub, and the highest-quality cheddar is both  Fermentology • Book  A Brief History of Cheese [Essay]  6  internally and externally salted before being bound in cheesecloth, which is then rubbed  with whey butter.',\n 'A Brief History of Cheese [Essay]  6  internally and externally salted before being bound in cheesecloth, which is then rubbed  with whey butter.  Broadly speaking, a warmer environment speeds cheese ripening, whereas a cooler  environment slows it down. Likewise, a relatively dry environment is necessary for  cheeses to harden properly, so that cheeses destined for long ageing such as Parmesano-  Reggiano, which is both salty, sweet, and nutty all at once, need a relatively dry and cool  environment. A moist environment is better for soft cheeses as it prevents desiccation  and promotes the growth of desired molds. Semi-soft cheeses such as Limburger,',\n 'and promotes the growth of desired molds. Semi-soft cheeses such as Limburger,  Munster, and Époisse, are surface ripened with bacteria, which give them their famously  smelly odors, although the inside of these cheeses is generally mild. Some other cheeses  are covered in leaves, ash, or soot, or washed in alcohol as a way to slow or prevent  surface bacterial growth and impart subtle flavors. Emmental receives no surface  treatment at all other than being cleaned and waxed. Lastly, blue cheeses are inoculated  with a culture of blue mold, either at the forming stage, as with Roquefort from France, or  once the cheese has been formed, as with Stilton from England, Cashel Blue from Ireland,',\n 'once the cheese has been formed, as with Stilton from England, Cashel Blue from Ireland,  and Maytag Blue from Iowa. In all cases, one can see the injection marks. Roquefort is the  saltiest and most pungent of the blue cheeses and is made from sheep’s milk; most blue  cheeses are made from cow’s milk, and some, like Cambozola from Germany, are mild  and creamy with only a hint of mold flavor.  This very brief survey of how most cheeses are made has focused upon the cheeses you  are most likely to find in the store, but be aware that the number of artisanal cheese-  makers in America is growing by the year, and many stores are increasing the number of  foreign cheeses they sell as well. Consequently, you may be able to find very similar',\n 'foreign cheeses they sell as well. Consequently, you may be able to find very similar  cheeses to the one’s just described, but with names with which you are not familiar.  Your general knowledge of cheese styles should help you to determine what the cheese  might taste like, but if you can, ask the cheese-monger for a comparison. Better yet, ask  for a sample! When you do purchase a cheese, my advice is to rescue it from the  ignominy of cellophane, if that’s what it came in, and store it in wax paper, or else leave  it unwrapped but put it in a Tupperware container in the refrigerator. For harder cheeses  that you want to keep around for a long time, store them in a sealable sandwich bag. The',\n 'that you want to keep around for a long time, store them in a sealable sandwich bag. The  goal is to let your cheese breathe, but not to give it so much air that it dries out or allows  for the growth of unwanted bacteria or mold.  ~~~  Did I mention that I love cheese? A few years ago a fellow cheese-fanatic friend in  London sent me what he thought was an explanation for my cheese love. According to  Fermentology • Book  A Brief History of Cheese [Essay]  7  scientists at the University of Michigan cheese is addictive! Well, it turns out that that’s  not what the scientists actually said. In fact, the study was about food cravings, and the  food that was most often craved was pizza [2]. Certain readers extrapolated from this that',\n 'food that was most often craved was pizza [2]. Certain readers extrapolated from this that  pizza’s allegedly addictive quality came from casomorphins, the tiny protein crystals  that result from the breakdown of casein, the primary protein of milkfat. True,  casomorphins can activate the human opioid system, just as drugs like morphine do, but  the degree is negligible and in most cases of cheese eating doesn’t occur at all. More  importantly, our brain registers with delight when it senses protein, fat, and salt, which  most cheeses contain to some degree. But the real reason for pizza’s position atop the  “craveability” index is the combination of carbohydrates and sugar (in the dough and',\n '“craveability” index is the combination of carbohydrates and sugar (in the dough and  tomato sauce). In other words, pizza has a massive glycemic load, and causes our blood  sugar to spike. We humans like that. But fear not, there is nothing addictive about cheese.  You may, however, fall in love with it.  Image attribution: By smial (talk) - Own work, FAL  Footnotes  Citations  1. For more on this, visit Jessica Hendy’s enriched talk. ↩  1.  Paul Freedman, ed., Food: The History of Taste (Berkeley, ëééð)  ↩  2.  https://www.sciencenews.org/blog/scicurious/no-cheese-not-just-crack ↩']"
     },
     "execution_count": 6,
     "metadata": {},
     "output_type": "execute_result"
    }
   ],
   "source": [
    "#replace \\n with space\n",
    "text_contents = [chunk.replace('\\n', ' ') for chunk in text_contents]\n",
    "text_contents"
   ],
   "metadata": {
    "collapsed": false,
    "ExecuteTime": {
     "end_time": "2024-03-07T15:46:08.207635700Z",
     "start_time": "2024-03-07T15:46:08.199825700Z"
    }
   },
   "id": "c0ab322c8b9f6515",
   "execution_count": 6
  },
  {
   "cell_type": "code",
   "outputs": [
    {
     "name": "stdout",
     "output_type": "stream",
     "text": [
      "WARNING:tensorflow:From C:\\Users\\Pumukl\\AppData\\Local\\Programs\\Python\\Python311\\Lib\\site-packages\\keras\\src\\backend.py:873: The name tf.get_default_graph is deprecated. Please use tf.compat.v1.get_default_graph instead.\n"
     ]
    },
    {
     "name": "stderr",
     "output_type": "stream",
     "text": [
      "Some weights of the PyTorch model were not used when initializing the TF 2.0 model TFBertModel: ['embeddings.position_ids']\n",
      "- This IS expected if you are initializing TFBertModel from a PyTorch model trained on another task or with another architecture (e.g. initializing a TFBertForSequenceClassification model from a BertForPreTraining model).\n",
      "- This IS NOT expected if you are initializing TFBertModel from a PyTorch model that you expect to be exactly identical (e.g. initializing a TFBertForSequenceClassification model from a BertForSequenceClassification model).\n",
      "All the weights of TFBertModel were initialized from the PyTorch model.\n",
      "If your task is similar to the task the model of the checkpoint was trained on, you can already use TFBertModel for predictions without further training.\n"
     ]
    }
   ],
   "source": [
    "from transformers import AutoTokenizer, TFAutoModel\n",
    "import tensorflow as tf\n",
    "\n",
    "# Define the model name and initialize the tokenizer\n",
    "model_name = \"sentence-transformers/all-MiniLM-L6-v2\"\n",
    "tokenizer = AutoTokenizer.from_pretrained(model_name)\n",
    "\n",
    "# Load the TensorFlow version of the model\n",
    "model = TFAutoModel.from_pretrained(model_name, from_pt=True)\n",
    "\n",
    "# Tokenize and process each chunk\n",
    "chunk_embeddings = []\n",
    "for chunk in text_contents:\n",
    "    \n",
    "    chunk= str(chunk)\n",
    "    \n",
    "    tokenized_chunk = tokenizer(chunk, padding=True, truncation=True, return_tensors=\"tf\", max_length=512)\n",
    "    outputs = model(**tokenized_chunk)\n",
    "    # Use pooler_output or mean of the last_hidden_state for embeddings\n",
    "    embedding = outputs.pooler_output if outputs.pooler_output is not None else tf.reduce_mean(outputs.last_hidden_state, axis=1)\n",
    "    chunk_embeddings.append(embedding.numpy().flatten())"
   ],
   "metadata": {
    "collapsed": false,
    "ExecuteTime": {
     "end_time": "2024-03-07T15:46:13.865585500Z",
     "start_time": "2024-03-07T15:46:09.104410800Z"
    }
   },
   "id": "815d8cd6c4edfa90",
   "execution_count": 7
  },
  {
   "cell_type": "code",
   "outputs": [
    {
     "name": "stdout",
     "output_type": "stream",
     "text": [
      "Number of items in the index: 27\n"
     ]
    }
   ],
   "source": [
    "from annoy import AnnoyIndex\n",
    "\n",
    "# Assuming all embeddings are of the same dimension\n",
    "dimension = chunk_embeddings[0].shape[0]\n",
    "\n",
    "# Initialize the Annoy index with the specified dimension and metric\n",
    "index = AnnoyIndex(dimension, 'angular')\n",
    "\n",
    "# Add embeddings to the index\n",
    "for i, embedding in enumerate(chunk_embeddings):\n",
    "    index.add_item(i, embedding)\n",
    "\n",
    "# Build the index with a specified number of trees\n",
    "index.build(50)\n",
    "\n",
    "# Save the index\n",
    "index.save('chunk_embeddings.ann')\n",
    "\n",
    "# Optional: To verify\n",
    "print(\"Number of items in the index:\", index.get_n_items())"
   ],
   "metadata": {
    "collapsed": false,
    "ExecuteTime": {
     "end_time": "2024-03-07T15:46:38.453586900Z",
     "start_time": "2024-03-07T15:46:38.415658700Z"
    }
   },
   "id": "e92a53eaac7ef6e1",
   "execution_count": 8
  },
  {
   "cell_type": "code",
   "outputs": [
    {
     "name": "stdout",
     "output_type": "stream",
     "text": [
      "Fermentology • Book  A Brief History of Cheese  [Essay]  Charles Ludington  Published on: Oct 25, 2021  License: Creative Commons Attribution 4.0 International License (CC-BY 4.0)  Fermentology • Book  A Brief History of Cheese [Essay]  2  Let’s begin with a little bit of history. Cheese is one of the oldest foods we humans have  produced, possibly dating from the beginning of sheep and cattle herding êé,ééé years  ago. That said, the discovery of cheese making was probably accidental. It’s likely that  the curdling action of rennet was discovered when a herdsman poured milk into a sack or  pouch made of an animal’s stomach, and this may have happened independently in\n"
     ]
    }
   ],
   "source": [
    "chunk_index_to_text = {i: chunk for i, chunk in enumerate(text_contents)}\n",
    "print(chunk_index_to_text[0])"
   ],
   "metadata": {
    "collapsed": false,
    "ExecuteTime": {
     "end_time": "2024-03-07T15:47:00.259290400Z",
     "start_time": "2024-03-07T15:47:00.255292300Z"
    }
   },
   "id": "718aa66944b463f",
   "execution_count": 9
  },
  {
   "cell_type": "code",
   "outputs": [
    {
     "name": "stdout",
     "output_type": "stream",
     "text": [
      "Query embedding shape: (384,)\n",
      "Indices of Nearest Neighbors: [25, 26, 24]\n",
      "Distances: [0.5348873138427734, 0.6018552780151367, 0.6630282998085022]\n",
      "Chunk 25 text/reference: food that was most often craved was pizza [2]. Certain readers extrapolated from this that  pizza’s allegedly addictive quality came from casomorphins, the tiny protein crystals  that result from the breakdown of casein, the primary protein of milkfat. True,  casomorphins can activate the human opioid system, just as drugs like morphine do, but  the degree is negligible and in most cases of cheese eating doesn’t occur at all. More  importantly, our brain registers with delight when it senses protein, fat, and salt, which  most cheeses contain to some degree. But the real reason for pizza’s position atop the  “craveability” index is the combination of carbohydrates and sugar (in the dough and\n",
      "Chunk 26 text/reference: “craveability” index is the combination of carbohydrates and sugar (in the dough and  tomato sauce). In other words, pizza has a massive glycemic load, and causes our blood  sugar to spike. We humans like that. But fear not, there is nothing addictive about cheese.  You may, however, fall in love with it.  Image attribution: By smial (talk) - Own work, FAL  Footnotes  Citations  1. For more on this, visit Jessica Hendy’s enriched talk. ↩  1.  Paul Freedman, ed., Food: The History of Taste (Berkeley, ëééð)  ↩  2.  https://www.sciencenews.org/blog/scicurious/no-cheese-not-just-crack ↩\n",
      "Chunk 24 text/reference: that you want to keep around for a long time, store them in a sealable sandwich bag. The  goal is to let your cheese breathe, but not to give it so much air that it dries out or allows  for the growth of unwanted bacteria or mold.  ~~~  Did I mention that I love cheese? A few years ago a fellow cheese-fanatic friend in  London sent me what he thought was an explanation for my cheese love. According to  Fermentology • Book  A Brief History of Cheese [Essay]  7  scientists at the University of Michigan cheese is addictive! Well, it turns out that that’s  not what the scientists actually said. In fact, the study was about food cravings, and the  food that was most often craved was pizza [2]. Certain readers extrapolated from this that\n"
     ]
    }
   ],
   "source": [
    "# Your query text\n",
    "query_text = (\"what protein does pizza have?\")\n",
    "\n",
    "# Tokenize the query\n",
    "query_input = tokenizer(query_text, padding=True, truncation=True, return_tensors=\"tf\")\n",
    "\n",
    "# Assuming we're using the same model as before\n",
    "# If using last_hidden_state, consider applying pooling to match chunk embeddings preparation\n",
    "query_output = model(**query_input)\n",
    "query_embedding = query_output.pooler_output if query_output.pooler_output is not None else tf.reduce_mean(query_output.last_hidden_state, axis=1)\n",
    "\n",
    "# Convert TensorFlow tensor to numpy array and flatten it\n",
    "query_embedding_np = query_embedding.numpy().flatten()\n",
    "\n",
    "print(\"Query embedding shape:\", query_embedding_np.shape)\n",
    "\n",
    "# Number of nearest neighbors to find\n",
    "n = 3\n",
    "include_distances = True\n",
    "\n",
    "# Load the pre-built Annoy index\n",
    "index = AnnoyIndex(dimension, 'angular')\n",
    "index.load('chunk_embeddings.ann')  # Make sure this is the correct path to your saved index\n",
    "\n",
    "# Query the Annoy index\n",
    "nearest_neighbors = index.get_nns_by_vector(query_embedding_np, n, include_distances=include_distances)\n",
    "\n",
    "# Process and display the results\n",
    "if include_distances:\n",
    "    indices, distances = nearest_neighbors\n",
    "    print(\"Indices of Nearest Neighbors:\", indices)\n",
    "    print(\"Distances:\", distances)\n",
    "else:\n",
    "    indices = nearest_neighbors\n",
    "    print(\"Indices of Nearest Neighbors:\", indices)\n",
    "\n",
    "# Assuming you have a mapping from indices to chunk texts or references\n",
    "for idx in indices:\n",
    "    # Retrieve and display the corresponding chunk text or a description\n",
    "    print(f\"Chunk {idx} text/reference: {chunk_index_to_text[idx]}\")"
   ],
   "metadata": {
    "collapsed": false,
    "ExecuteTime": {
     "end_time": "2024-03-07T15:47:04.820545100Z",
     "start_time": "2024-03-07T15:47:04.731525200Z"
    }
   },
   "id": "47c1b8e69c16849c",
   "execution_count": 10
  }
 ],
 "metadata": {
  "kernelspec": {
   "display_name": "Python 3",
   "language": "python",
   "name": "python3"
  },
  "language_info": {
   "codemirror_mode": {
    "name": "ipython",
    "version": 2
   },
   "file_extension": ".py",
   "mimetype": "text/x-python",
   "name": "python",
   "nbconvert_exporter": "python",
   "pygments_lexer": "ipython2",
   "version": "2.7.6"
  }
 },
 "nbformat": 4,
 "nbformat_minor": 5
}
